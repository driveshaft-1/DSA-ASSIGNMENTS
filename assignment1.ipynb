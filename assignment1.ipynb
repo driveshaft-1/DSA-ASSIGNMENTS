{
 "cells": [
  {
   "cell_type": "code",
   "execution_count": 1,
   "id": "6f0798ea-c81b-4565-882a-45167b5d6e7b",
   "metadata": {},
   "outputs": [],
   "source": [
    "#QUESTION 1"
   ]
  },
  {
   "cell_type": "code",
   "execution_count": 2,
   "id": "8d32678e-3752-442f-9423-37bba911ffc6",
   "metadata": {},
   "outputs": [
    {
     "name": "stdout",
     "output_type": "stream",
     "text": [
      "enter the radius\n"
     ]
    },
    {
     "name": "stdin",
     "output_type": "stream",
     "text": [
      " 3\n"
     ]
    },
    {
     "name": "stdout",
     "output_type": "stream",
     "text": [
      "area of circle is =  28.259999999999998\n"
     ]
    }
   ],
   "source": [
    "print('enter the radius')\n",
    "r=int(input())\n",
    "area=3.14*r*r\n",
    "print('area of circle is = ',area)"
   ]
  },
  {
   "cell_type": "code",
   "execution_count": null,
   "id": "6d8b2572-3c76-4004-ab0f-d0c8898e4d0a",
   "metadata": {},
   "outputs": [],
   "source": []
  },
  {
   "cell_type": "code",
   "execution_count": 3,
   "id": "e79426f5-b08d-4a96-8d34-e8e6fdb2c9f2",
   "metadata": {},
   "outputs": [],
   "source": [
    "#QUESTION 2"
   ]
  },
  {
   "cell_type": "code",
   "execution_count": 4,
   "id": "69b87069-0040-46f9-87ce-fc3d64c67fa9",
   "metadata": {},
   "outputs": [
    {
     "name": "stdin",
     "output_type": "stream",
     "text": [
      "enter the name:  Anisha\n",
      "enter roll number:  21\n",
      "enter the mark:  78\n"
     ]
    },
    {
     "name": "stdout",
     "output_type": "stream",
     "text": [
      "Name:  Anisha\n",
      "Rollnumber: \n",
      "Mark:  78\n"
     ]
    }
   ],
   "source": [
    "N=input('enter the name: ')\n",
    "R=input('enter roll number: ')\n",
    "M=input('enter the mark: ')\n",
    "print('Name: ',N)\n",
    "print('Rollnumber: ',)\n",
    "print('Mark: ',M)"
   ]
  },
  {
   "cell_type": "code",
   "execution_count": null,
   "id": "1aaf32b3-3896-4265-9f35-b984fcd5f5d4",
   "metadata": {},
   "outputs": [],
   "source": []
  },
  {
   "cell_type": "code",
   "execution_count": 5,
   "id": "32b2f4a3-c83e-423d-9bef-0263a843b9d6",
   "metadata": {},
   "outputs": [],
   "source": [
    "#QUESTION 3"
   ]
  },
  {
   "cell_type": "code",
   "execution_count": 6,
   "id": "20546646-2eb9-401d-977e-c7de29f8cf87",
   "metadata": {},
   "outputs": [
    {
     "name": "stdout",
     "output_type": "stream",
     "text": [
      "47 is the largest number\n"
     ]
    }
   ],
   "source": [
    "list=[12,3,47,10]\n",
    "print(max(list), 'is the largest number')"
   ]
  },
  {
   "cell_type": "code",
   "execution_count": null,
   "id": "1ef4bedb-dc63-4838-a3e6-c90b8ccbf770",
   "metadata": {},
   "outputs": [],
   "source": []
  },
  {
   "cell_type": "code",
   "execution_count": 7,
   "id": "bb095a93-dc0e-47e2-8d91-a169f64c3c85",
   "metadata": {},
   "outputs": [],
   "source": [
    "#QUESTION 4"
   ]
  },
  {
   "cell_type": "code",
   "execution_count": 8,
   "id": "9f9a74d9-92af-4d11-b3af-0dfc6edf113c",
   "metadata": {},
   "outputs": [
    {
     "name": "stdout",
     "output_type": "stream",
     "text": [
      "current number: 1 previous number: 0 sum:  1\n",
      "current number: 2 previous number: 1 sum:  3\n",
      "current number: 3 previous number: 2 sum:  5\n",
      "current number: 4 previous number: 3 sum:  7\n",
      "current number: 5 previous number: 4 sum:  9\n",
      "current number: 6 previous number: 5 sum:  11\n",
      "current number: 7 previous number: 6 sum:  13\n",
      "current number: 8 previous number: 7 sum:  15\n",
      "current number: 9 previous number: 8 sum:  17\n",
      "current number: 10 previous number: 9 sum:  19\n"
     ]
    }
   ],
   "source": [
    "\n",
    "for i in range(10):\n",
    "    print('current number:',i+1, 'previous number:' ,i, 'sum: ',i+i+1)\n"
   ]
  },
  {
   "cell_type": "code",
   "execution_count": null,
   "id": "24b3774f-f326-49c6-b82e-167b9439fd2a",
   "metadata": {},
   "outputs": [],
   "source": []
  },
  {
   "cell_type": "code",
   "execution_count": 9,
   "id": "dcb70939-99a8-4df1-8d6b-4afc131e7df6",
   "metadata": {},
   "outputs": [],
   "source": [
    "#QUESTION 5"
   ]
  },
  {
   "cell_type": "code",
   "execution_count": 10,
   "id": "adf6639d-fcf5-49d8-a9ed-8b313d954a3a",
   "metadata": {},
   "outputs": [
    {
     "name": "stdout",
     "output_type": "stream",
     "text": [
      "10\n",
      "20\n",
      "55\n"
     ]
    }
   ],
   "source": [
    "list=[10,20,33,46,55]\n",
    "for i in list:\n",
    "    if i%5==0:\n",
    "        print(i)"
   ]
  },
  {
   "cell_type": "code",
   "execution_count": null,
   "id": "9a2fde09-31f0-4047-83e9-313a97671621",
   "metadata": {},
   "outputs": [],
   "source": []
  },
  {
   "cell_type": "code",
   "execution_count": 11,
   "id": "0c1e2cfe-4547-463b-ae6f-d099264c976e",
   "metadata": {},
   "outputs": [],
   "source": [
    "#QUESTION 6"
   ]
  },
  {
   "cell_type": "code",
   "execution_count": 12,
   "id": "9286827e-534d-4a60-9ca1-4deb3f87977d",
   "metadata": {},
   "outputs": [
    {
     "name": "stdout",
     "output_type": "stream",
     "text": [
      "enter the number: \n"
     ]
    },
    {
     "name": "stdin",
     "output_type": "stream",
     "text": [
      " 3\n"
     ]
    },
    {
     "name": "stdout",
     "output_type": "stream",
     "text": [
      "3 is a prime number\n"
     ]
    }
   ],
   "source": [
    "print('enter the number: ')\n",
    "n=int(input())\n",
    "if n>1:\n",
    "   for i in range(2,n):\n",
    "       if n%i==0:\n",
    "           print(n, 'is not a prime number')\n",
    "       else:\n",
    "           print(n, 'is a prime number')\n",
    "       "
   ]
  },
  {
   "cell_type": "code",
   "execution_count": null,
   "id": "08129e67-35be-46c8-8830-a01ecf99c8f3",
   "metadata": {},
   "outputs": [],
   "source": []
  },
  {
   "cell_type": "code",
   "execution_count": null,
   "id": "24078445-7aa3-4ed8-90e5-85a829e9cf9a",
   "metadata": {},
   "outputs": [],
   "source": [
    "#QUESTION7 - NOT ANSWERED"
   ]
  },
  {
   "cell_type": "code",
   "execution_count": null,
   "id": "43456ac0-f950-45cc-9d8a-b80b91214125",
   "metadata": {},
   "outputs": [],
   "source": [
    "#QUESTION 8 - NOT ANSWERED"
   ]
  },
  {
   "cell_type": "code",
   "execution_count": null,
   "id": "c0d60d7b-bd58-4701-8908-32dd000b4d66",
   "metadata": {},
   "outputs": [],
   "source": []
  },
  {
   "cell_type": "code",
   "execution_count": null,
   "id": "fa089f58-41f3-4f19-85ca-4aaddeb9ed31",
   "metadata": {},
   "outputs": [],
   "source": [
    "#QUESTION 9"
   ]
  },
  {
   "cell_type": "code",
   "execution_count": 23,
   "id": "c06ec507-2d5d-4478-81b5-7e3ad04dfb99",
   "metadata": {},
   "outputs": [
    {
     "name": "stdout",
     "output_type": "stream",
     "text": [
      "34\n"
     ]
    }
   ],
   "source": [
    "list=[34,12,7]\n",
    "max=list[0]\n",
    "n=len(list)\n",
    "for i in range(1,2):\n",
    "    if list[i]>max:\n",
    "        max=list[i]\n",
    "    print(max)\n"
   ]
  },
  {
   "cell_type": "code",
   "execution_count": null,
   "id": "4bcb3198-c66b-4a4b-8a78-49c803d9baee",
   "metadata": {},
   "outputs": [],
   "source": []
  },
  {
   "cell_type": "code",
   "execution_count": null,
   "id": "255403d8-a45c-4471-b6c5-d4b4dbaa166a",
   "metadata": {},
   "outputs": [],
   "source": [
    "#QUESTION 10"
   ]
  },
  {
   "cell_type": "code",
   "execution_count": 51,
   "id": "75bf5c79-03a7-4e88-b8f1-5ba93bc78786",
   "metadata": {},
   "outputs": [
    {
     "ename": "IndentationError",
     "evalue": "unexpected indent (2520443836.py, line 9)",
     "output_type": "error",
     "traceback": [
      "\u001b[1;36m  Cell \u001b[1;32mIn[51], line 9\u001b[1;36m\u001b[0m\n\u001b[1;33m    print('sum  of cubes:',s_of_c(a))\u001b[0m\n\u001b[1;37m    ^\u001b[0m\n\u001b[1;31mIndentationError\u001b[0m\u001b[1;31m:\u001b[0m unexpected indent\n"
     ]
    }
   ],
   "source": [
    "a=int(input())\n",
    "def s_of_c(n):\n",
    "    n=n-1\n",
    "    total=0\n",
    "    while n>0:\n",
    "        total=total+n*n*n\n",
    "        n=n-1\n",
    "        return total\n",
    "              print('sum  of cubes:',s_of_c(a))"
   ]
  },
  {
   "cell_type": "code",
   "execution_count": null,
   "id": "f73c11dc-fa69-4ba9-8f10-5e88e355678b",
   "metadata": {},
   "outputs": [],
   "source": []
  },
  {
   "cell_type": "code",
   "execution_count": null,
   "id": "35a300b0-7851-47b6-b0f3-44a1b310f581",
   "metadata": {},
   "outputs": [],
   "source": []
  },
  {
   "cell_type": "code",
   "execution_count": null,
   "id": "af0d66ca-dd55-439c-9bcd-5bbe163ffa3e",
   "metadata": {},
   "outputs": [],
   "source": [
    "#QUESTION 11"
   ]
  },
  {
   "cell_type": "code",
   "execution_count": 80,
   "id": "9cac3f5a-0510-45e5-b988-f85a9fbc61a5",
   "metadata": {},
   "outputs": [
    {
     "name": "stdout",
     "output_type": "stream",
     "text": [
      "1\n",
      "Fizz\n",
      "3\n",
      "Fizz\n",
      "Buzz\n",
      "Fizz\n",
      "7\n",
      "Fizz\n",
      "9\n",
      "Fizzbuzz\n"
     ]
    }
   ],
   "source": [
    "i=1\n",
    "for i in range(i,11):\n",
    "     if i%2==0 and i%5==0:\n",
    "             print('Fizzbuzz')\n",
    "     elif  i%2==0:\n",
    "         print('Fizz')\n",
    "         \n",
    "     elif   i%5==0:\n",
    "             print('Buzz')\n",
    "         \n",
    "     else:\n",
    "         print(i)\n"
   ]
  },
  {
   "cell_type": "code",
   "execution_count": null,
   "id": "fad3c5a8-db85-4204-a2cf-430c58e3db00",
   "metadata": {},
   "outputs": [],
   "source": []
  },
  {
   "cell_type": "code",
   "execution_count": null,
   "id": "d1044db0-32de-4918-b6a2-ca1a69844e46",
   "metadata": {},
   "outputs": [],
   "source": [
    "#QUESTION 12"
   ]
  },
  {
   "cell_type": "code",
   "execution_count": 96,
   "id": "0c1bf594-289c-471a-8dc6-eaa4e3083e18",
   "metadata": {},
   "outputs": [
    {
     "name": "stdout",
     "output_type": "stream",
     "text": [
      "enter a number\n"
     ]
    },
    {
     "name": "stdin",
     "output_type": "stream",
     "text": [
      " 3\n"
     ]
    },
    {
     "name": "stdout",
     "output_type": "stream",
     "text": [
      "6 is the factorial\n"
     ]
    }
   ],
   "source": [
    "print('enter a number')\n",
    "n=int(input())\n",
    "fac=1\n",
    "for i in range(1,n+1):\n",
    "       fac=fac*i\n",
    "\n",
    "print(fac, 'is the factorial')"
   ]
  },
  {
   "cell_type": "code",
   "execution_count": null,
   "id": "385a08db-9bb6-40c2-bcb4-7a53c9b40fe8",
   "metadata": {},
   "outputs": [],
   "source": []
  },
  {
   "cell_type": "code",
   "execution_count": null,
   "id": "8ebcd96d-e805-4633-905e-8a237be7f9ff",
   "metadata": {},
   "outputs": [],
   "source": [
    "#QUESTION 13"
   ]
  },
  {
   "cell_type": "code",
   "execution_count": 39,
   "id": "9730ece8-464d-4953-80f7-f785a4a119ef",
   "metadata": {},
   "outputs": [
    {
     "name": "stdout",
     "output_type": "stream",
     "text": [
      "2\n"
     ]
    }
   ],
   "source": [
    "list=[2,3,4,2,5,2]\n",
    "print(max(set(list),key=list.count))"
   ]
  },
  {
   "cell_type": "code",
   "execution_count": null,
   "id": "8a2e9e6a-d9fe-47f3-8e77-f836e0380d29",
   "metadata": {},
   "outputs": [],
   "source": []
  },
  {
   "cell_type": "code",
   "execution_count": null,
   "id": "48858ff4-80a8-41b8-be15-7f2167c7526e",
   "metadata": {},
   "outputs": [],
   "source": [
    "#QUESTION 14 NOT ANSWERED"
   ]
  },
  {
   "cell_type": "code",
   "execution_count": null,
   "id": "55ae7a47-8c22-4887-886c-c6a0a8032d22",
   "metadata": {},
   "outputs": [],
   "source": []
  },
  {
   "cell_type": "code",
   "execution_count": null,
   "id": "fda08dcf-d71f-496c-98e1-6b625788ade4",
   "metadata": {},
   "outputs": [],
   "source": [
    "#Question 15"
   ]
  },
  {
   "cell_type": "code",
   "execution_count": 67,
   "id": "45a1e03f-13c3-4510-8036-e81375590c9f",
   "metadata": {},
   "outputs": [
    {
     "name": "stdout",
     "output_type": "stream",
     "text": [
      "1 - odd\n",
      "2 - even\n",
      "3 - odd\n",
      "4 - even\n",
      "5 - odd\n",
      "6 - even\n",
      "7 - odd\n",
      "8 - even\n",
      "9 - odd\n",
      "10 - even\n",
      "11 - odd\n",
      "12 - even\n",
      "13 - odd\n",
      "14 - even\n",
      "15 - odd\n"
     ]
    }
   ],
   "source": [
    "range(2,16)\n",
    "for i in range(1,16):\n",
    "    if i%2==0 :\n",
    "        print(i,'- even')\n",
    "    else:\n",
    "        print(i,'- odd')\n",
    "        \n",
    "    \n",
    "\n"
   ]
  },
  {
   "cell_type": "code",
   "execution_count": null,
   "id": "538d975e-e881-4682-92c6-b7a2002366b2",
   "metadata": {},
   "outputs": [],
   "source": []
  },
  {
   "cell_type": "code",
   "execution_count": null,
   "id": "7df7df61-7327-4c7d-b537-df56b71714a5",
   "metadata": {},
   "outputs": [],
   "source": []
  },
  {
   "cell_type": "code",
   "execution_count": null,
   "id": "bd1681c3-53ee-403a-8504-4d2e9dd8c71e",
   "metadata": {},
   "outputs": [],
   "source": []
  },
  {
   "cell_type": "code",
   "execution_count": null,
   "id": "d72cf8d5-86d2-441b-8a70-c374ed60ee2b",
   "metadata": {},
   "outputs": [],
   "source": []
  },
  {
   "cell_type": "code",
   "execution_count": null,
   "id": "ffad82d3-2eae-4767-b144-a9bf7a54be0d",
   "metadata": {},
   "outputs": [],
   "source": []
  },
  {
   "cell_type": "code",
   "execution_count": null,
   "id": "5e95a72b-9188-473f-b77f-f296e05957f1",
   "metadata": {},
   "outputs": [],
   "source": []
  },
  {
   "cell_type": "code",
   "execution_count": null,
   "id": "7e34b969-c9ab-4d8c-8fdb-b67d73f4d639",
   "metadata": {},
   "outputs": [],
   "source": []
  },
  {
   "cell_type": "code",
   "execution_count": null,
   "id": "1cefbe90-1d2c-452b-b2e8-12625834d49b",
   "metadata": {},
   "outputs": [],
   "source": []
  }
 ],
 "metadata": {
  "kernelspec": {
   "display_name": "Python 3 (ipykernel)",
   "language": "python",
   "name": "python3"
  },
  "language_info": {
   "codemirror_mode": {
    "name": "ipython",
    "version": 3
   },
   "file_extension": ".py",
   "mimetype": "text/x-python",
   "name": "python",
   "nbconvert_exporter": "python",
   "pygments_lexer": "ipython3",
   "version": "3.12.7"
  }
 },
 "nbformat": 4,
 "nbformat_minor": 5
}
